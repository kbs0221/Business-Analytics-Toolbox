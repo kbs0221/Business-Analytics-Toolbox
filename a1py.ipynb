{
  "nbformat": 4,
  "nbformat_minor": 0,
  "metadata": {
    "colab": {
      "name": "a1.py",
      "provenance": [],
      "private_outputs": true,
      "collapsed_sections": [],
      "toc_visible": true,
      "include_colab_link": true
    },
    "kernelspec": {
      "name": "python3",
      "display_name": "Python 3"
    }
  },
  "cells": [
    {
      "cell_type": "markdown",
      "metadata": {
        "id": "view-in-github",
        "colab_type": "text"
      },
      "source": [
        "<a href=\"https://colab.research.google.com/github/kbs0221/Business-Analytics-Toolbox/blob/master/a1py.ipynb\" target=\"_parent\"><img src=\"https://colab.research.google.com/assets/colab-badge.svg\" alt=\"Open In Colab\"/></a>"
      ]
    },
    {
      "cell_type": "markdown",
      "metadata": {
        "id": "vuo7tY7HaY8u"
      },
      "source": [
        "# Assignment 1\n",
        "\n",
        "This notebook has a number of questions for you to complete **individually**.  \n",
        "\n",
        "> This is not a group assignment.\n",
        "\n",
        "After answering the questions below to the best of your ability, export this notebook as a `.py` file called `a1.py`.  In notebook environments, this is usually found in the File portion of the interface.  \n",
        "\n",
        "In Google Colab, this is File > Download .py.\n",
        "\n",
        "## Show your work!\n",
        "\n",
        "> For each question cell, you are expected to include the code that you used to determine the answer.\n",
        "\n",
        "\n",
        "## Submission\n",
        "\n",
        "Commit this file to your project and ensure that it is committed to your repo for this assignment.  \n",
        "\n",
        "I will be reviewing your work in `a1.py`.\n",
        "\n"
      ]
    },
    {
      "cell_type": "markdown",
      "metadata": {
        "id": "FFcgwWavbB1v"
      },
      "source": [
        "# Starter Code\n",
        "\n",
        "The code below assumes that the file `765-A1.pkl` is in your working directory.  That is, the same location where this notebook is located.\n",
        "\n",
        "For example, if you are using Google Colab, you can upload the file via the left-hand navigation tool using the Upload icon.  "
      ]
    },
    {
      "cell_type": "code",
      "metadata": {
        "id": "4LfOt9LzbHyU"
      },
      "source": [
        "import pickle\n",
        "with open('765-A1.pkl', 'rb') as f:\n",
        "  a1 = pickle.load(f)"
      ],
      "execution_count": null,
      "outputs": []
    },
    {
      "cell_type": "markdown",
      "metadata": {
        "id": "YePS2er-bhQm"
      },
      "source": [
        "# Part 1"
      ]
    },
    {
      "cell_type": "code",
      "metadata": {
        "id": "rhbDZDxfbiTw"
      },
      "source": [
        "# Q1:  Define a variable q1 which determines the dataype for the variable a1 created above\n",
        "q1 = type(a1)\n",
        "print(q1)\n"
      ],
      "execution_count": null,
      "outputs": []
    },
    {
      "cell_type": "code",
      "metadata": {
        "id": "L2oVmNcobxZe"
      },
      "source": [
        "# Q2:  Define a variable q2 which is the length of the dataset. You should use python to determine the length!\n",
        "q2 = len(a1)\n",
        "print(q2)\n",
        "\n",
        "\n",
        "\n"
      ],
      "execution_count": null,
      "outputs": []
    },
    {
      "cell_type": "code",
      "metadata": {
        "id": "ZbW4aC9rcFHT"
      },
      "source": [
        "# Q3: Define a variable called q3 which represents the first 10 entries in the object a1\n",
        "q3 = a1[0:10]\n",
        "print(q3)\n",
        "\n",
        "\n",
        "\n"
      ],
      "execution_count": null,
      "outputs": []
    },
    {
      "cell_type": "code",
      "metadata": {
        "id": "DhjJMy4NcWwS"
      },
      "source": [
        "# Q4: Define a variable called q4 extracts the last entry in A1\n",
        "q4 = a1[-1]\n",
        "print(q4)\n",
        "\n",
        "\n"
      ],
      "execution_count": null,
      "outputs": []
    },
    {
      "cell_type": "code",
      "metadata": {
        "id": "ViTtBXUwcgso"
      },
      "source": [
        "# Q5:  What is the datatype of the variable q4 defined above?  Save this as q5.\n",
        "q5 = type(q4)\n",
        "print(q5)\n",
        "\n",
        "\n"
      ],
      "execution_count": null,
      "outputs": []
    },
    {
      "cell_type": "code",
      "metadata": {
        "id": "pEC4GhtLcmPg"
      },
      "source": [
        "# Q6:  What is the length of the variable q4 defined above?  Save this as q6.\n",
        "q6 = len(q4)\n",
        "print(q6)\n",
        "\n",
        "\n"
      ],
      "execution_count": null,
      "outputs": []
    },
    {
      "cell_type": "code",
      "metadata": {
        "id": "lntpb65yct0m"
      },
      "source": [
        "# Q7:  Tokenize the variable q4 as save this work as q7.\n",
        "#      Tokenization is to split a sentence into individual words by whitespace\n",
        "#      HINT:  this should be a list\n",
        "q7 = q4.split()\n",
        "print(q7)\n",
        "\n"
      ],
      "execution_count": null,
      "outputs": []
    },
    {
      "cell_type": "code",
      "metadata": {
        "id": "n3kgOHh-ct5O"
      },
      "source": [
        "# Q8:  Using variable q4, ensure that the sentence is ALL lower case.\n",
        "#      Save this as q8.\n",
        "q8 = q4.lower()\n",
        "print(q8)\n",
        "\n",
        "\n"
      ],
      "execution_count": null,
      "outputs": []
    },
    {
      "cell_type": "markdown",
      "metadata": {
        "id": "CV2OK_clct7d"
      },
      "source": [
        "# Part 2\n",
        "\n",
        "Create a dictionary called q9 that has the following key:value pairs\n",
        "\n",
        "1. a key `email` with a value of your BU email address\n",
        "1. a key `experience` with a value that is a `float` which represents how many prior courses you have had in python prior to joining the MSBA program.\n",
        "1. a key `R` with a boolean value indiciating whether or not you have experience coding in the statistical programming language `R` "
      ]
    },
    {
      "cell_type": "code",
      "metadata": {
        "id": "8u4g2J3tdMnd"
      },
      "source": [
        "# Q9:  Create the dictionary with the key value pairs described above\n",
        "q9 = {\"email\": \"bwk5100@bu.edu\",\n",
        "      \"experience\": 1,\n",
        "      \"R\": True}\n",
        "print(q9)\n",
        "\n",
        "\n",
        "\n"
      ],
      "execution_count": null,
      "outputs": []
    },
    {
      "cell_type": "markdown",
      "metadata": {
        "id": "cUVKXJrMexcM"
      },
      "source": [
        "---"
      ]
    },
    {
      "cell_type": "markdown",
      "metadata": {
        "id": "KbVLmRz1eg3H"
      },
      "source": [
        "# Commit your work as your submission!\n",
        "\n",
        "> Make sure you save your work!\n",
        "\n",
        "Commit this file to your project and ensure that it is committed to your repo for this assignment.  \n",
        "\n",
        "I will be reviewing your work in `a1.py` and writing tests against the variables that I defined for you above.\n",
        "\n",
        "Good luck!"
      ]
    },
    {
      "cell_type": "code",
      "metadata": {
        "id": "dBfp__1vg-hp"
      },
      "source": [
        ""
      ],
      "execution_count": null,
      "outputs": []
    },
    {
      "cell_type": "code",
      "metadata": {
        "id": "Jq7DVTKwg6cb"
      },
      "source": [
        ""
      ],
      "execution_count": null,
      "outputs": []
    },
    {
      "cell_type": "code",
      "metadata": {
        "id": "d1bKpjXBg7nb"
      },
      "source": [
        ""
      ],
      "execution_count": null,
      "outputs": []
    }
  ]
}